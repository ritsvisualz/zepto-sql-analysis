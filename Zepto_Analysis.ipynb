# Zepto SQL + Pandas Data Analysis

* This notebook explores the `zepto_v2.csv` dataset using **Pandas** and **Matplotlib**.  
* The dataset contains product information (category, pricing, discounts, stock, etc.) from Zepto.

---

#  Step 1 — Import libraries
import pandas as pd
import matplotlib.pyplot as plt

# Enable inline charts (for Jupyter)
%matplotlib inline


#  Step 2 — Load dataset
df = pd.read_csv("zepto_v2.csv")

# Show first 5 rows
df.head()



# Step 3 — Check dataset info
print("Shape of dataset:", df.shape)
print("\nColumns:")
print(df.columns)

df.info()

##  Exploratory Analysis
### We’ll answer some business questions:
1. Which products have the most stock?  
2. Which categories generate the most potential revenue?  
3. Where are the highest discounts?  
4. Which categories are most often out of stock?  
5. What’s the distribution of product weights?  


# Top 10 Products by Available Quantity
top_products = df.groupby("name")["availableQuantity"].sum().sort_values(ascending=False).head(10)

top_products.plot(kind="bar", figsize=(10,5), title="Top 10 Products by Available Quantity")
plt.ylabel("Quantity Available")
plt.xticks(rotation=45, ha='right')
plt.show()


#  Revenue by Category
df["revenue"] = df["discountedSellingPrice"] * df["availableQuantity"]
category_revenue = df.groupby("Category")["revenue"].sum().sort_values(ascending=False)

category_revenue.plot(kind="bar", figsize=(10,5), title="Revenue by Category")
plt.ylabel("Total Revenue")
plt.xticks(rotation=45, ha='right')
plt.show()


# Average Discount Percent by Category
avg_discount = df.groupby("Category")["discountPercent"].mean().sort_values(ascending=False)

avg_discount.plot(kind="bar", figsize=(10,5), title="Average Discount Percent by Category")
plt.ylabel("Average Discount (%)")
plt.xticks(rotation=45, ha='right')
plt.show()


# Out of Stock Products Count by Category
out_of_stock = df[df["outOfStock"] == True].groupby("Category")["name"].count().sort_values(ascending=False)

out_of_stock.plot(kind="bar", figsize=(10,5), title="Out of Stock Products by Category")
plt.ylabel("Count of Out of Stock Items")
plt.xticks(rotation=45, ha='right')
plt.show()


# Distribution of Product Weights
df["weightInGms"].plot(kind="hist", bins=30, figsize=(8,5), title="Distribution of Product Weights")
plt.xlabel("Weight (grams)")
plt.show()
